{
 "cells": [
  {
   "cell_type": "markdown",
   "id": "73c113af",
   "metadata": {
    "papermill": {
     "duration": 0.004806,
     "end_time": "2023-04-07T15:11:27.572020",
     "exception": false,
     "start_time": "2023-04-07T15:11:27.567214",
     "status": "completed"
    },
    "tags": []
   },
   "source": [
    "# Loading Dataset"
   ]
  },
  {
   "cell_type": "code",
   "execution_count": 1,
   "id": "51adebd4",
   "metadata": {
    "_cell_guid": "b1076dfc-b9ad-4769-8c92-a6c4dae69d19",
    "_uuid": "8f2839f25d086af736a60e9eeb907d3b93b6e0e5",
    "execution": {
     "iopub.execute_input": "2023-04-07T15:11:27.581112Z",
     "iopub.status.busy": "2023-04-07T15:11:27.580589Z",
     "iopub.status.idle": "2023-04-07T15:11:41.760936Z",
     "shell.execute_reply": "2023-04-07T15:11:41.759705Z"
    },
    "papermill": {
     "duration": 14.188442,
     "end_time": "2023-04-07T15:11:41.763963",
     "exception": false,
     "start_time": "2023-04-07T15:11:27.575521",
     "status": "completed"
    },
    "tags": []
   },
   "outputs": [],
   "source": [
    "from tensorflow.keras.preprocessing.image import ImageDataGenerator"
   ]
  },
  {
   "cell_type": "code",
   "execution_count": 2,
   "id": "8e434475",
   "metadata": {
    "execution": {
     "iopub.execute_input": "2023-04-07T15:11:41.773038Z",
     "iopub.status.busy": "2023-04-07T15:11:41.772339Z",
     "iopub.status.idle": "2023-04-07T15:11:46.451833Z",
     "shell.execute_reply": "2023-04-07T15:11:46.450737Z"
    },
    "papermill": {
     "duration": 4.687216,
     "end_time": "2023-04-07T15:11:46.454714",
     "exception": false,
     "start_time": "2023-04-07T15:11:41.767498",
     "status": "completed"
    },
    "tags": []
   },
   "outputs": [
    {
     "name": "stdout",
     "output_type": "stream",
     "text": [
      "Found 4571 images belonging to 4 classes.\n",
      "Found 1141 images belonging to 4 classes.\n"
     ]
    }
   ],
   "source": [
    "datagen = ImageDataGenerator(rescale=1./255, validation_split=0.2)\n",
    "\n",
    "train_generator = datagen.flow_from_directory(\n",
    "    directory=r\"/kaggle/input/brain-tumor-mri-dataset/Training\",\n",
    "    target_size=(224, 224),\n",
    "    batch_size=32,\n",
    "    class_mode='categorical',\n",
    "    subset='training' # Use only the training images\n",
    ")\n",
    "\n",
    "validation_generator = datagen.flow_from_directory(\n",
    "    directory=r\"/kaggle/input/brain-tumor-mri-dataset/Training\",\n",
    "    target_size=(224, 224),\n",
    "    batch_size=32,\n",
    "    class_mode='categorical',\n",
    "    subset='validation' # Use only the validation images\n",
    ")"
   ]
  },
  {
   "cell_type": "code",
   "execution_count": 3,
   "id": "cfc429c2",
   "metadata": {
    "execution": {
     "iopub.execute_input": "2023-04-07T15:11:46.463390Z",
     "iopub.status.busy": "2023-04-07T15:11:46.462977Z",
     "iopub.status.idle": "2023-04-07T15:11:46.469847Z",
     "shell.execute_reply": "2023-04-07T15:11:46.468597Z"
    },
    "papermill": {
     "duration": 0.013782,
     "end_time": "2023-04-07T15:11:46.472185",
     "exception": false,
     "start_time": "2023-04-07T15:11:46.458403",
     "status": "completed"
    },
    "tags": []
   },
   "outputs": [],
   "source": [
    "from tensorflow.keras.applications.vgg16 import VGG16\n",
    "from tensorflow.keras.applications.vgg16 import preprocess_input"
   ]
  },
  {
   "cell_type": "code",
   "execution_count": 4,
   "id": "4660b6f3",
   "metadata": {
    "execution": {
     "iopub.execute_input": "2023-04-07T15:11:46.481417Z",
     "iopub.status.busy": "2023-04-07T15:11:46.480411Z",
     "iopub.status.idle": "2023-04-07T15:11:46.487330Z",
     "shell.execute_reply": "2023-04-07T15:11:46.486331Z"
    },
    "papermill": {
     "duration": 0.013837,
     "end_time": "2023-04-07T15:11:46.489683",
     "exception": false,
     "start_time": "2023-04-07T15:11:46.475846",
     "status": "completed"
    },
    "tags": []
   },
   "outputs": [],
   "source": [
    "from tensorflow.keras.layers import Dense, Input, Flatten\n",
    "from tensorflow.keras.models import Model, Sequential"
   ]
  },
  {
   "cell_type": "code",
   "execution_count": 5,
   "id": "2a916336",
   "metadata": {
    "execution": {
     "iopub.execute_input": "2023-04-07T15:11:46.498714Z",
     "iopub.status.busy": "2023-04-07T15:11:46.497688Z",
     "iopub.status.idle": "2023-04-07T15:11:46.503297Z",
     "shell.execute_reply": "2023-04-07T15:11:46.502124Z"
    },
    "papermill": {
     "duration": 0.012644,
     "end_time": "2023-04-07T15:11:46.505820",
     "exception": false,
     "start_time": "2023-04-07T15:11:46.493176",
     "status": "completed"
    },
    "tags": []
   },
   "outputs": [],
   "source": [
    "import tensorflow as tf"
   ]
  },
  {
   "cell_type": "code",
   "execution_count": 6,
   "id": "5193d52e",
   "metadata": {
    "execution": {
     "iopub.execute_input": "2023-04-07T15:11:46.514793Z",
     "iopub.status.busy": "2023-04-07T15:11:46.513738Z",
     "iopub.status.idle": "2023-04-07T15:11:52.486524Z",
     "shell.execute_reply": "2023-04-07T15:11:52.485439Z"
    },
    "papermill": {
     "duration": 5.980049,
     "end_time": "2023-04-07T15:11:52.489332",
     "exception": false,
     "start_time": "2023-04-07T15:11:46.509283",
     "status": "completed"
    },
    "tags": []
   },
   "outputs": [
    {
     "name": "stdout",
     "output_type": "stream",
     "text": [
      "Downloading data from https://storage.googleapis.com/tensorflow/keras-applications/vgg16/vgg16_weights_tf_dim_ordering_tf_kernels_notop.h5\n",
      "58889256/58889256 [==============================] - 0s 0us/step\n"
     ]
    }
   ],
   "source": [
    "IMAGE_SIZE = [224, 224]\n",
    "vgg = VGG16(input_shape=IMAGE_SIZE + [3], weights='imagenet', include_top=False)\n",
    "for layer in vgg.layers:\n",
    "    layer.trainable = False\n",
    "x = Flatten()(vgg.output)\n",
    "prediction = Dense(4, activation='softmax')(x)\n",
    "model = Model(inputs=vgg.input, outputs=prediction)\n",
    "model.compile(\n",
    "  loss='categorical_crossentropy',\n",
    "  optimizer='adam',\n",
    "  metrics=['accuracy']\n",
    ")"
   ]
  },
  {
   "cell_type": "code",
   "execution_count": 7,
   "id": "37ef3f5f",
   "metadata": {
    "execution": {
     "iopub.execute_input": "2023-04-07T15:11:52.501027Z",
     "iopub.status.busy": "2023-04-07T15:11:52.498870Z",
     "iopub.status.idle": "2023-04-07T15:23:21.516983Z",
     "shell.execute_reply": "2023-04-07T15:23:21.515855Z"
    },
    "papermill": {
     "duration": 689.026311,
     "end_time": "2023-04-07T15:23:21.519736",
     "exception": false,
     "start_time": "2023-04-07T15:11:52.493425",
     "status": "completed"
    },
    "tags": []
   },
   "outputs": [
    {
     "name": "stdout",
     "output_type": "stream",
     "text": [
      "Epoch 1/20\n",
      "143/143 [==============================] - 80s 439ms/step - loss: 0.4159 - accuracy: 0.8473 - val_loss: 0.5723 - val_accuracy: 0.8256\n",
      "Epoch 2/20\n",
      "143/143 [==============================] - 31s 219ms/step - loss: 0.1816 - accuracy: 0.9346 - val_loss: 0.7412 - val_accuracy: 0.7870\n",
      "Epoch 3/20\n",
      "143/143 [==============================] - 31s 215ms/step - loss: 0.1055 - accuracy: 0.9632 - val_loss: 0.6027 - val_accuracy: 0.8282\n",
      "Epoch 4/20\n",
      "143/143 [==============================] - 33s 233ms/step - loss: 0.0902 - accuracy: 0.9670 - val_loss: 0.5203 - val_accuracy: 0.8352\n",
      "Epoch 5/20\n",
      "143/143 [==============================] - 31s 218ms/step - loss: 0.0496 - accuracy: 0.9860 - val_loss: 0.5373 - val_accuracy: 0.8545\n",
      "Epoch 6/20\n",
      "143/143 [==============================] - 30s 209ms/step - loss: 0.0337 - accuracy: 0.9937 - val_loss: 0.6003 - val_accuracy: 0.8440\n",
      "Epoch 7/20\n",
      "143/143 [==============================] - 31s 213ms/step - loss: 0.0251 - accuracy: 0.9967 - val_loss: 0.6511 - val_accuracy: 0.8475\n",
      "Epoch 8/20\n",
      "143/143 [==============================] - 31s 219ms/step - loss: 0.0231 - accuracy: 0.9978 - val_loss: 0.5847 - val_accuracy: 0.8361\n",
      "Epoch 9/20\n",
      "143/143 [==============================] - 30s 212ms/step - loss: 0.0151 - accuracy: 0.9998 - val_loss: 0.5750 - val_accuracy: 0.8519\n",
      "Epoch 10/20\n",
      "143/143 [==============================] - 31s 219ms/step - loss: 0.0126 - accuracy: 0.9998 - val_loss: 0.5780 - val_accuracy: 0.8466\n",
      "Epoch 11/20\n",
      "143/143 [==============================] - 31s 216ms/step - loss: 0.0127 - accuracy: 0.9996 - val_loss: 0.5967 - val_accuracy: 0.8536\n",
      "Epoch 12/20\n",
      "143/143 [==============================] - 31s 219ms/step - loss: 0.0101 - accuracy: 1.0000 - val_loss: 0.6279 - val_accuracy: 0.8536\n",
      "Epoch 13/20\n",
      "143/143 [==============================] - 32s 221ms/step - loss: 0.0093 - accuracy: 0.9996 - val_loss: 0.7271 - val_accuracy: 0.8387\n",
      "Epoch 14/20\n",
      "143/143 [==============================] - 31s 214ms/step - loss: 0.0085 - accuracy: 0.9996 - val_loss: 0.6041 - val_accuracy: 0.8545\n",
      "Epoch 15/20\n",
      "143/143 [==============================] - 30s 211ms/step - loss: 0.0059 - accuracy: 1.0000 - val_loss: 0.6049 - val_accuracy: 0.8571\n",
      "Epoch 16/20\n",
      "143/143 [==============================] - 30s 210ms/step - loss: 0.0051 - accuracy: 1.0000 - val_loss: 0.6693 - val_accuracy: 0.8536\n",
      "Epoch 17/20\n",
      "143/143 [==============================] - 30s 211ms/step - loss: 0.0048 - accuracy: 1.0000 - val_loss: 0.6507 - val_accuracy: 0.8563\n",
      "Epoch 18/20\n",
      "143/143 [==============================] - 30s 208ms/step - loss: 0.0042 - accuracy: 1.0000 - val_loss: 0.6269 - val_accuracy: 0.8624\n",
      "Epoch 19/20\n",
      "143/143 [==============================] - 30s 212ms/step - loss: 0.0037 - accuracy: 1.0000 - val_loss: 0.6526 - val_accuracy: 0.8606\n",
      "Epoch 20/20\n",
      "143/143 [==============================] - 30s 207ms/step - loss: 0.0034 - accuracy: 1.0000 - val_loss: 0.6547 - val_accuracy: 0.8624\n"
     ]
    }
   ],
   "source": [
    "history=model.fit(\n",
    "    train_generator,\n",
    "     batch_size=16,\n",
    "    steps_per_epoch=len(train_generator),\n",
    "    epochs=20,\n",
    "    validation_data=validation_generator,\n",
    "    validation_steps=len(validation_generator)\n",
    ")"
   ]
  },
  {
   "cell_type": "code",
   "execution_count": null,
   "id": "1adce583",
   "metadata": {
    "execution": {
     "iopub.execute_input": "2023-04-07T14:42:49.507682Z",
     "iopub.status.busy": "2023-04-07T14:42:49.507051Z",
     "iopub.status.idle": "2023-04-07T14:42:49.515212Z",
     "shell.execute_reply": "2023-04-07T14:42:49.513966Z",
     "shell.execute_reply.started": "2023-04-07T14:42:49.507644Z"
    },
    "papermill": {
     "duration": 0.163756,
     "end_time": "2023-04-07T15:23:21.845307",
     "exception": false,
     "start_time": "2023-04-07T15:23:21.681551",
     "status": "completed"
    },
    "tags": []
   },
   "outputs": [],
   "source": []
  },
  {
   "cell_type": "code",
   "execution_count": 8,
   "id": "c5bc0b05",
   "metadata": {
    "execution": {
     "iopub.execute_input": "2023-04-07T15:23:22.176413Z",
     "iopub.status.busy": "2023-04-07T15:23:22.175089Z",
     "iopub.status.idle": "2023-04-07T15:23:22.546659Z",
     "shell.execute_reply": "2023-04-07T15:23:22.545350Z"
    },
    "papermill": {
     "duration": 0.542188,
     "end_time": "2023-04-07T15:23:22.549136",
     "exception": false,
     "start_time": "2023-04-07T15:23:22.006948",
     "status": "completed"
    },
    "tags": []
   },
   "outputs": [
    {
     "name": "stdout",
     "output_type": "stream",
     "text": [
      "Training Accuracy :  0.9842266499996185\n",
      "Validation Accuracy :  0.8454864144325256\n"
     ]
    },
    {
     "data": {
      "image/png": "[encoded data removed]",
      "text/plain": [
       "<Figure size 640x480 with 1 Axes>"
      ]
     },
     "metadata": {},
     "output_type": "display_data"
    },
    {
     "data": {
      "text/plain": [
       "<Figure size 640x480 with 0 Axes>"
      ]
     },
     "metadata": {},
     "output_type": "display_data"
    }
   ],
   "source": [
    "import matplotlib.pyplot as plt\n",
    "%matplotlib inline\n",
    "from statistics import mean\n",
    "acc = history.history['accuracy']\n",
    "print(\"Training Accuracy : \",mean(acc))\n",
    "val_acc = history.history['val_accuracy']\n",
    "print(\"Validation Accuracy : \",mean(val_acc))\n",
    "loss = history.history['loss']\n",
    "val_loss = history.history['val_loss']\n",
    "\n",
    "epochs = range(len(acc))\n",
    "\n",
    "plt.plot(epochs, acc, 'r', label='Training accuracy')\n",
    "plt.plot(epochs, val_acc, 'b', label='Validation accuracy')\n",
    "plt.title('Training and validation accuracy')\n",
    "plt.legend(loc=0)\n",
    "plt.figure()\n",
    "\n",
    "plt.show()"
   ]
  },
  {
   "cell_type": "code",
   "execution_count": 9,
   "id": "0600b09e",
   "metadata": {
    "execution": {
     "iopub.execute_input": "2023-04-07T15:23:22.888076Z",
     "iopub.status.busy": "2023-04-07T15:23:22.887694Z",
     "iopub.status.idle": "2023-04-07T15:23:23.133667Z",
     "shell.execute_reply": "2023-04-07T15:23:23.132899Z"
    },
    "papermill": {
     "duration": 0.416683,
     "end_time": "2023-04-07T15:23:23.136009",
     "exception": false,
     "start_time": "2023-04-07T15:23:22.719326",
     "status": "completed"
    },
    "tags": []
   },
   "outputs": [
    {
     "data": {
      "image/png": "[encoded data removed]",
      "text/plain": [
       "<Figure size 640x480 with 1 Axes>"
      ]
     },
     "metadata": {},
     "output_type": "display_data"
    },
    {
     "data": {
      "text/plain": [
       "<Figure size 640x480 with 0 Axes>"
      ]
     },
     "metadata": {},
     "output_type": "display_data"
    }
   ],
   "source": [
    "plt.plot(epochs, loss, 'r', label='Training accuracy')\n",
    "plt.plot(epochs, val_loss, 'b', label='Validation accuracy')\n",
    "plt.title('Training and validation accuracy')\n",
    "plt.legend(loc=0)\n",
    "plt.figure()\n",
    "\n",
    "plt.show()"
   ]
  },
  {
   "cell_type": "code",
   "execution_count": null,
   "id": "3cbebb7f",
   "metadata": {
    "papermill": {
     "duration": 0.214082,
     "end_time": "2023-04-07T15:23:23.526577",
     "exception": false,
     "start_time": "2023-04-07T15:23:23.312495",
     "status": "completed"
    },
    "tags": []
   },
   "outputs": [],
   "source": []
  }
 ],
 "metadata": {
  "kernelspec": {
   "display_name": "Python 3",
   "language": "python",
   "name": "python3"
  },
  "language_info": {
   "codemirror_mode": {
    "name": "ipython",
    "version": 3
   },
   "file_extension": ".py",
   "mimetype": "text/x-python",
   "name": "python",
   "nbconvert_exporter": "python",
   "pygments_lexer": "ipython3",
   "version": "3.7.12"
  },
  "papermill": {
   "default_parameters": {},
   "duration": 733.687359,
   "end_time": "2023-04-07T15:23:27.392623",
   "environment_variables": {},
   "exception": null,
   "input_path": "__notebook__.ipynb",
   "output_path": "__notebook__.ipynb",
   "parameters": {},
   "start_time": "2023-04-07T15:11:13.705264",
   "version": "2.4.0"
  }
 },
 "nbformat": 4,
 "nbformat_minor": 5
}
